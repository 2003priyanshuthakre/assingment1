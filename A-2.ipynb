{
 "cells": [
  {
   "cell_type": "markdown",
   "id": "46152e9b-ead2-4246-a273-4cfc3140ea6e",
   "metadata": {},
   "source": [
    "Q1. How do you comment code in Python? What are the different types of comments?"
   ]
  },
  {
   "cell_type": "markdown",
   "id": "11276bce-70b7-4825-bdc0-5c89c4d471cc",
   "metadata": {},
   "source": [
    "To comment any code we have to use ctrl+/ .\n",
    "there are two type of comment - single line comment and multiple line comment."
   ]
  },
  {
   "cell_type": "markdown",
   "id": "b5301267-3188-488b-9666-8143a7fd5799",
   "metadata": {},
   "source": [
    "Q2. What are variables in Python? How do you declare and assign values to variables?"
   ]
  },
  {
   "cell_type": "markdown",
   "id": "209dccd1-98bb-4972-bbd2-65da8fccf188",
   "metadata": {},
   "source": [
    "A Variable is created when some value is assigned to it. \n",
    "the value assigned to a variable determines the data type of thet variable ."
   ]
  },
  {
   "cell_type": "code",
   "execution_count": null,
   "id": "07805076-0e66-4f48-9b60-0638d00abf74",
   "metadata": {},
   "outputs": [],
   "source": [
    "#Example\n",
    "A = 5\n",
    "# here A is a variable and 5 is the interger number which store in variable "
   ]
  },
  {
   "cell_type": "markdown",
   "id": "9355cc54-a23b-48f6-a096-ae58e622ef3a",
   "metadata": {},
   "source": [
    "Q3. How do you convert one data type to another in Python?"
   ]
  },
  {
   "cell_type": "code",
   "execution_count": null,
   "id": "fee797c8-df08-4384-b9c1-4634397593fe",
   "metadata": {},
   "outputs": [],
   "source": []
  },
  {
   "cell_type": "markdown",
   "id": "cb440a51-6a6e-4349-914d-a0afe1880197",
   "metadata": {},
   "source": [
    "Q4. How do you write and execute a Python script from the command line?"
   ]
  },
  {
   "cell_type": "markdown",
   "id": "68972946-1bfd-44e2-96bf-2cd71b27a895",
   "metadata": {},
   "source": [
    "1.We can use any text editor you prefer, such as Notepad, Visual Studio Code, Sublime Text, or even a command-line text editor like Nano or Vim. Create a new file and write your Python code in it.\n",
    "2.Then Open the command line or terminal on your operating system. You can usually find it by searching for \"Command Prompt\" (Windows) or \"Terminal\" (macOS/Linux).\n",
    "3.Use the'cd' command to navigate to the directory where your Python script is located. \n",
    "4.Then press the enter and then your code will be run on command line."
   ]
  },
  {
   "cell_type": "markdown",
   "id": "aaaef1a3-86a7-4f51-ae91-efb6ac998bad",
   "metadata": {},
   "source": [
    "Q5. Given a list my_list = [1, 2, 3, 4, 5], write the code to slice the list and obtain the sub-list [2, 3]."
   ]
  },
  {
   "cell_type": "code",
   "execution_count": 8,
   "id": "4b2ca1b8-c105-4e86-b984-cffc3997a431",
   "metadata": {},
   "outputs": [
    {
     "name": "stdout",
     "output_type": "stream",
     "text": [
      "[2, 3]\n"
     ]
    }
   ],
   "source": [
    "my_list = [1, 2, 3, 4, 5]\n",
    "sub_list = my_list[1:3]\n",
    "print(sub_list)\n",
    "            \n",
    "                   "
   ]
  },
  {
   "cell_type": "markdown",
   "id": "a0b9ac39-f161-4ee6-8d99-e21ecc581c76",
   "metadata": {},
   "source": [
    "Q6. What is a complex number in mathematics, and how is it represented in Python?"
   ]
  },
  {
   "cell_type": "markdown",
   "id": "3880ea9a-4d29-470e-b63e-95b783cfd2b7",
   "metadata": {},
   "source": [
    "1.'a' is the real part of the complex number.\n",
    "2.'b' is the imaginary part of the complex number.\n",
    "3.'J' is the imaginary unit, defined as the square root of -1.\n",
    " A a+bj is the complex number in mathematics and it is represented by 'a+bj' in python."
   ]
  },
  {
   "cell_type": "markdown",
   "id": "4dd41beb-b03f-421e-9446-82b5d68da235",
   "metadata": {},
   "source": [
    "Q7. What is the correct way to declare a variable named age and assign the value 25 to it?"
   ]
  },
  {
   "cell_type": "code",
   "execution_count": 2,
   "id": "8ff75331-3461-4276-bd75-a7f57aae260b",
   "metadata": {},
   "outputs": [
    {
     "name": "stdout",
     "output_type": "stream",
     "text": [
      "25\n"
     ]
    }
   ],
   "source": [
    "age=25\n",
    "print(age) "
   ]
  },
  {
   "cell_type": "markdown",
   "id": "dbbac547-0cdd-42c2-a1b5-9aca800ea143",
   "metadata": {},
   "source": [
    "Q8. Declare a variable named price and assign the value 9.99 to it. What data type does this variable\n",
    "belong to?"
   ]
  },
  {
   "cell_type": "code",
   "execution_count": 3,
   "id": "c27269ad-9a6b-4661-9c60-12e0e8ac0108",
   "metadata": {},
   "outputs": [
    {
     "data": {
      "text/plain": [
       "float"
      ]
     },
     "execution_count": 3,
     "metadata": {},
     "output_type": "execute_result"
    }
   ],
   "source": [
    "a=9.99\n",
    "type(a)"
   ]
  },
  {
   "cell_type": "markdown",
   "id": "b84abc16-fdc8-421f-8849-6c07d2545d77",
   "metadata": {},
   "source": [
    "Q9. Create a variable named name and assign your full name to it as a string. How would you print the\n",
    "value of this variable?"
   ]
  },
  {
   "cell_type": "code",
   "execution_count": 4,
   "id": "8d591233-4b1a-4e00-9eb5-3ef65c6dc9ab",
   "metadata": {},
   "outputs": [
    {
     "name": "stdout",
     "output_type": "stream",
     "text": [
      "piyush thakre\n"
     ]
    }
   ],
   "source": [
    "name = \"piyush thakre\"\n",
    "print(name)"
   ]
  },
  {
   "cell_type": "markdown",
   "id": "19d6e2bd-c29b-48f3-9a74-16d525297fe1",
   "metadata": {},
   "source": [
    "Q10. Given the string \"Hello, World!\", extract the substring \"World\"."
   ]
  },
  {
   "cell_type": "code",
   "execution_count": 3,
   "id": "0b9eb478-31ed-411c-bc4d-16d3e010b423",
   "metadata": {},
   "outputs": [
    {
     "name": "stdout",
     "output_type": "stream",
     "text": [
      "Wrd\n"
     ]
    }
   ],
   "source": [
    "string = \"Hello,World!\"\n",
    "substring =string[6:11]\n",
    "print(substring)"
   ]
  },
  {
   "cell_type": "markdown",
   "id": "b5910fb8-f898-481b-ad50-315526cb7f42",
   "metadata": {},
   "source": [
    "Q11. Create a variable named \"is_student\" and assign it a boolean value indicating whether you are\n",
    "currently a student or not."
   ]
  },
  {
   "cell_type": "code",
   "execution_count": null,
   "id": "0dedbb31-620d-4d55-a794-04063070e4a3",
   "metadata": {},
   "outputs": [],
   "source": [
    "is_student ="
   ]
  }
 ],
 "metadata": {
  "kernelspec": {
   "display_name": "Python 3 (ipykernel)",
   "language": "python",
   "name": "python3"
  },
  "language_info": {
   "codemirror_mode": {
    "name": "ipython",
    "version": 3
   },
   "file_extension": ".py",
   "mimetype": "text/x-python",
   "name": "python",
   "nbconvert_exporter": "python",
   "pygments_lexer": "ipython3",
   "version": "3.10.8"
  },
  "toc-autonumbering": true
 },
 "nbformat": 4,
 "nbformat_minor": 5
}
