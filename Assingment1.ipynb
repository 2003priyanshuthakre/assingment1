{
 "cells": [
  {
   "cell_type": "markdown",
   "id": "f30b3588-1638-4eee-a932-d872df9dfd84",
   "metadata": {},
   "source": [
    "Q1. Create one variable containing following type of data:\n",
    "(i) string\n",
    "(ii) list\n",
    "(iii) float\n",
    "(iv) tuple\n"
   ]
  },
  {
   "cell_type": "code",
   "execution_count": 7,
   "id": "bce4b597-3217-43ca-b9de-33e671d8d3a1",
   "metadata": {},
   "outputs": [
    {
     "name": "stdout",
     "output_type": "stream",
     "text": [
      "hey\n",
      "[1, 2, 4, 8, 7, 9]\n",
      "(1.1, 1.2, 1.3)\n",
      "('data', 'tyope', 'rakshu', 'thakre')\n"
     ]
    }
   ],
   "source": [
    "Str=\"hey\"\n",
    "print(Str)\n",
    "li=[1,2,4,8,7,9]\n",
    "print(li)\n",
    "fl=(1.1,1.2,1.3)\n",
    "print(fl)\n",
    "t=(\"data\", \"tyope\" , \"rakshu\", \"thakre\")\n",
    "print(t)"
   ]
  },
  {
   "cell_type": "markdown",
   "id": "d42f0f44-77ea-482c-a58b-8c28eba0aa5b",
   "metadata": {},
   "source": [
    "Q2. Given are some following variables containing data:\n",
    "(i) var1 = ‘ ‘\n",
    "(ii) var2 = ‘[ DS , ML , Python]’\n",
    "(iii) var3 = [ ‘DS’ , ’ML’ , ‘Python’ ]\n",
    "(iv) var4 = 1."
   ]
  },
  {
   "cell_type": "code",
   "execution_count": 27,
   "id": "c47d9759-71f2-442b-b73f-bb3ba98203c2",
   "metadata": {},
   "outputs": [
    {
     "data": {
      "text/plain": [
       "str"
      ]
     },
     "execution_count": 27,
     "metadata": {},
     "output_type": "execute_result"
    }
   ],
   "source": [
    "var1=''\n",
    "type(var1)\n"
   ]
  },
  {
   "cell_type": "code",
   "execution_count": 21,
   "id": "4d87384c-e79e-4379-a4ae-93f268dfeeed",
   "metadata": {},
   "outputs": [
    {
     "data": {
      "text/plain": [
       "str"
      ]
     },
     "execution_count": 21,
     "metadata": {},
     "output_type": "execute_result"
    }
   ],
   "source": [
    "var2='[DS,ML,PYTHON]'\n",
    "type(var2)"
   ]
  },
  {
   "cell_type": "code",
   "execution_count": 25,
   "id": "6b4cd6cb-64e6-4410-a583-994f89dbc48f",
   "metadata": {},
   "outputs": [
    {
     "data": {
      "text/plain": [
       "list"
      ]
     },
     "execution_count": 25,
     "metadata": {},
     "output_type": "execute_result"
    }
   ],
   "source": [
    "var3=[ 'DS' , 'ML', 'Python' ] \n",
    "type(var3)\n"
   ]
  },
  {
   "cell_type": "code",
   "execution_count": 26,
   "id": "fe3d6a5a-5ef3-4a5d-90ce-e64f6d7f8b89",
   "metadata": {},
   "outputs": [
    {
     "data": {
      "text/plain": [
       "float"
      ]
     },
     "execution_count": 26,
     "metadata": {},
     "output_type": "execute_result"
    }
   ],
   "source": [
    "var4=1.\n",
    "type(var4)"
   ]
  },
  {
   "cell_type": "markdown",
   "id": "25124638-c968-4b97-aef2-3aeafa37f7cf",
   "metadata": {},
   "source": [
    "Q3. Explain the use of the following operators using an example:\n",
    "(i) /\n",
    "(ii) %\n",
    "(iii) //\n",
    "(iv) **"
   ]
  },
  {
   "cell_type": "markdown",
   "id": "608fad4b-38d6-41c8-800d-dc88dbf23e9a",
   "metadata": {},
   "source": [
    " / = it is syambol of the comment "
   ]
  },
  {
   "cell_type": "code",
   "execution_count": 30,
   "id": "59b16fc5-f074-4adb-bdd4-b0ac5118d054",
   "metadata": {},
   "outputs": [],
   "source": [
    "# this is comment"
   ]
  },
  {
   "cell_type": "markdown",
   "id": "e06b0e8a-f3b0-44d7-86a6-aabdade37d3c",
   "metadata": {},
   "source": [
    "% = modulo opperator is an arithmetic operator which is use to find remender."
   ]
  },
  {
   "cell_type": "code",
   "execution_count": null,
   "id": "76a32c49-b313-4b3d-bf26-ca40ec6c1771",
   "metadata": {},
   "outputs": [],
   "source": [
    "a = 12\n",
    "b = 6\n",
    "print(a%b)"
   ]
  },
  {
   "cell_type": "markdown",
   "id": "45f99cfe-2992-437a-b248-1640d590f6a1",
   "metadata": {},
   "source": [
    "// = divide opperator is an arithmetic operator which is use to find divide."
   ]
  },
  {
   "cell_type": "code",
   "execution_count": 33,
   "id": "a3c2e8b3-1e27-445d-a626-aed102fffdc6",
   "metadata": {},
   "outputs": [
    {
     "name": "stdout",
     "output_type": "stream",
     "text": [
      "3\n"
     ]
    }
   ],
   "source": [
    "a = 12\n",
    "b = 4\n",
    "print(a//b)"
   ]
  },
  {
   "cell_type": "markdown",
   "id": "1dcbb66e-e0d3-4c62-ad04-29303cd0e48e",
   "metadata": {},
   "source": [
    "** =  power opperator is an arithmetic operator which is use to find exponential function ."
   ]
  },
  {
   "cell_type": "code",
   "execution_count": 34,
   "id": "4426241a-1c3b-4553-b9a2-c6c0fbf9f28d",
   "metadata": {},
   "outputs": [
    {
     "name": "stdout",
     "output_type": "stream",
     "text": [
      "24137569\n"
     ]
    }
   ],
   "source": [
    "a = 17\n",
    "b = 6\n",
    "print(a**b)"
   ]
  },
  {
   "cell_type": "markdown",
   "id": "d068c2d7-9b84-4cae-bec3-b59de7ffdec7",
   "metadata": {},
   "source": [
    "Q4. Create a list of length 10 of your choice containing multiple types of data. Using for loop print the\n",
    "element and its data type."
   ]
  },
  {
   "cell_type": "code",
   "execution_count": 38,
   "id": "0565abe8-9d4c-4278-964b-83f51f182e8f",
   "metadata": {},
   "outputs": [
    {
     "name": "stdout",
     "output_type": "stream",
     "text": [
      "<class 'int'>\n",
      "<class 'str'>\n",
      "<class 'int'>\n",
      "<class 'str'>\n",
      "<class 'int'>\n",
      "<class 'int'>\n",
      "<class 'int'>\n",
      "<class 'int'>\n",
      "<class 'str'>\n",
      "<class 'str'>\n"
     ]
    }
   ],
   "source": [
    " li=[1,\"hr\",4,\"re\",5,6,7,8,\"he\",\"krrr\"]\n",
    "for i in li :\n",
    "        print(type(i))\n",
    "    "
   ]
  },
  {
   "cell_type": "markdown",
   "id": "72d2d0f6-a1d8-4f25-8dbe-c82d82817ebc",
   "metadata": {},
   "source": [
    "Q6. Create a list containing 25 int type data. Using for loop and if-else condition print if the element is\n",
    "divisible by 3 or not."
   ]
  },
  {
   "cell_type": "code",
   "execution_count": 40,
   "id": "4855a7ee-7eb9-4bc6-b4e3-3fe459433df0",
   "metadata": {},
   "outputs": [
    {
     "name": "stdout",
     "output_type": "stream",
     "text": [
      "no\n",
      "no\n",
      "yes\n",
      "no\n",
      "no\n",
      "yes\n",
      "no\n",
      "no\n",
      "no\n",
      "yes\n",
      "yes\n",
      "yes\n",
      "no\n",
      "yes\n",
      "no\n",
      "yes\n",
      "yes\n",
      "no\n",
      "yes\n",
      "no\n",
      "yes\n",
      "no\n",
      "no\n",
      "no\n",
      "yes\n",
      "no\n",
      "no\n",
      "no\n",
      "yes\n",
      "no\n",
      "no\n",
      "yes\n",
      "no\n",
      "no\n",
      "no\n",
      "no\n",
      "no\n",
      "no\n",
      "yes\n",
      "no\n"
     ]
    }
   ],
   "source": [
    "li = [1,2,3,4,5,6,7,7,8,9,9,12,13,24,55,33,66,77,45,4,6,8,8,7,6,5,7,7,75,5,5,6,7,8,8,67,65,5,66,74]\n",
    "for i in li :\n",
    "    if i%3==0:\n",
    "        print(\"yes\")\n",
    "    else:\n",
    "        print(\"no\")\n",
    "    \n"
   ]
  },
  {
   "cell_type": "markdown",
   "id": "308ca6dd-082c-4c75-ac1e-885109dbc044",
   "metadata": {},
   "source": [
    "Q7. What do you understand about mutable and immutable data types? Give examples for both showing\n",
    "this property."
   ]
  },
  {
   "cell_type": "markdown",
   "id": "204dca12-b69b-4d3c-a6c3-3266432f3dac",
   "metadata": {},
   "source": [
    "mutable data is the data in which we can chnage the data after the creating anything is called mutable data.\n",
    "immutable dtata is the data in which we can not chnage the data ater the creating of data ."
   ]
  },
  {
   "cell_type": "code",
   "execution_count": null,
   "id": "8450250d-5c5a-4b57-acdf-7921640f2e1c",
   "metadata": {},
   "outputs": [],
   "source": []
  }
 ],
 "metadata": {
  "kernelspec": {
   "display_name": "Python 3 (ipykernel)",
   "language": "python",
   "name": "python3"
  },
  "language_info": {
   "codemirror_mode": {
    "name": "ipython",
    "version": 3
   },
   "file_extension": ".py",
   "mimetype": "text/x-python",
   "name": "python",
   "nbconvert_exporter": "python",
   "pygments_lexer": "ipython3",
   "version": "3.10.8"
  }
 },
 "nbformat": 4,
 "nbformat_minor": 5
}
